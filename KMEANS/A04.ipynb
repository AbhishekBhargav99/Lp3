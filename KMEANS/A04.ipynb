{
 "cells": [
  {
   "cell_type": "code",
   "execution_count": 113,
   "metadata": {},
   "outputs": [],
   "source": [
    "import numpy as np;\n",
    "import pandas as pd;\n",
    "import matplotlib.pyplot as plt;\n",
    "import math"
   ]
  },
  {
   "cell_type": "code",
   "execution_count": 114,
   "metadata": {},
   "outputs": [
    {
     "data": {
      "text/html": [
       "<div>\n",
       "<style scoped>\n",
       "    .dataframe tbody tr th:only-of-type {\n",
       "        vertical-align: middle;\n",
       "    }\n",
       "\n",
       "    .dataframe tbody tr th {\n",
       "        vertical-align: top;\n",
       "    }\n",
       "\n",
       "    .dataframe thead th {\n",
       "        text-align: right;\n",
       "    }\n",
       "</style>\n",
       "<table border=\"1\" class=\"dataframe\">\n",
       "  <thead>\n",
       "    <tr style=\"text-align: right;\">\n",
       "      <th></th>\n",
       "      <th>x</th>\n",
       "      <th>y</th>\n",
       "    </tr>\n",
       "  </thead>\n",
       "  <tbody>\n",
       "    <tr>\n",
       "      <th>0</th>\n",
       "      <td>0.10</td>\n",
       "      <td>0.60</td>\n",
       "    </tr>\n",
       "    <tr>\n",
       "      <th>1</th>\n",
       "      <td>0.15</td>\n",
       "      <td>0.71</td>\n",
       "    </tr>\n",
       "    <tr>\n",
       "      <th>2</th>\n",
       "      <td>0.08</td>\n",
       "      <td>0.90</td>\n",
       "    </tr>\n",
       "    <tr>\n",
       "      <th>3</th>\n",
       "      <td>0.16</td>\n",
       "      <td>0.85</td>\n",
       "    </tr>\n",
       "    <tr>\n",
       "      <th>4</th>\n",
       "      <td>0.20</td>\n",
       "      <td>0.30</td>\n",
       "    </tr>\n",
       "    <tr>\n",
       "      <th>5</th>\n",
       "      <td>0.25</td>\n",
       "      <td>0.50</td>\n",
       "    </tr>\n",
       "    <tr>\n",
       "      <th>6</th>\n",
       "      <td>0.24</td>\n",
       "      <td>0.10</td>\n",
       "    </tr>\n",
       "    <tr>\n",
       "      <th>7</th>\n",
       "      <td>0.30</td>\n",
       "      <td>0.20</td>\n",
       "    </tr>\n",
       "  </tbody>\n",
       "</table>\n",
       "</div>"
      ],
      "text/plain": [
       "      x     y\n",
       "0  0.10  0.60\n",
       "1  0.15  0.71\n",
       "2  0.08  0.90\n",
       "3  0.16  0.85\n",
       "4  0.20  0.30\n",
       "5  0.25  0.50\n",
       "6  0.24  0.10\n",
       "7  0.30  0.20"
      ]
     },
     "execution_count": 114,
     "metadata": {},
     "output_type": "execute_result"
    }
   ],
   "source": [
    "df = pd.read_csv('kmean.csv');\n",
    "df"
   ]
  },
  {
   "cell_type": "code",
   "execution_count": 115,
   "metadata": {},
   "outputs": [
    {
     "data": {
      "text/html": [
       "<div>\n",
       "<style scoped>\n",
       "    .dataframe tbody tr th:only-of-type {\n",
       "        vertical-align: middle;\n",
       "    }\n",
       "\n",
       "    .dataframe tbody tr th {\n",
       "        vertical-align: top;\n",
       "    }\n",
       "\n",
       "    .dataframe thead th {\n",
       "        text-align: right;\n",
       "    }\n",
       "</style>\n",
       "<table border=\"1\" class=\"dataframe\">\n",
       "  <thead>\n",
       "    <tr style=\"text-align: right;\">\n",
       "      <th></th>\n",
       "      <th>x</th>\n",
       "      <th>y</th>\n",
       "    </tr>\n",
       "  </thead>\n",
       "  <tbody>\n",
       "    <tr>\n",
       "      <th>count</th>\n",
       "      <td>8.000000</td>\n",
       "      <td>8.000000</td>\n",
       "    </tr>\n",
       "    <tr>\n",
       "      <th>mean</th>\n",
       "      <td>0.185000</td>\n",
       "      <td>0.520000</td>\n",
       "    </tr>\n",
       "    <tr>\n",
       "      <th>std</th>\n",
       "      <td>0.076345</td>\n",
       "      <td>0.298424</td>\n",
       "    </tr>\n",
       "    <tr>\n",
       "      <th>min</th>\n",
       "      <td>0.080000</td>\n",
       "      <td>0.100000</td>\n",
       "    </tr>\n",
       "    <tr>\n",
       "      <th>25%</th>\n",
       "      <td>0.137500</td>\n",
       "      <td>0.275000</td>\n",
       "    </tr>\n",
       "    <tr>\n",
       "      <th>50%</th>\n",
       "      <td>0.180000</td>\n",
       "      <td>0.550000</td>\n",
       "    </tr>\n",
       "    <tr>\n",
       "      <th>75%</th>\n",
       "      <td>0.242500</td>\n",
       "      <td>0.745000</td>\n",
       "    </tr>\n",
       "    <tr>\n",
       "      <th>max</th>\n",
       "      <td>0.300000</td>\n",
       "      <td>0.900000</td>\n",
       "    </tr>\n",
       "  </tbody>\n",
       "</table>\n",
       "</div>"
      ],
      "text/plain": [
       "              x         y\n",
       "count  8.000000  8.000000\n",
       "mean   0.185000  0.520000\n",
       "std    0.076345  0.298424\n",
       "min    0.080000  0.100000\n",
       "25%    0.137500  0.275000\n",
       "50%    0.180000  0.550000\n",
       "75%    0.242500  0.745000\n",
       "max    0.300000  0.900000"
      ]
     },
     "execution_count": 115,
     "metadata": {},
     "output_type": "execute_result"
    }
   ],
   "source": [
    "df.describe()"
   ]
  },
  {
   "cell_type": "code",
   "execution_count": 116,
   "metadata": {},
   "outputs": [],
   "source": [
    "class Kmeans:\n",
    "    def __init__(self):\n",
    "        pass;\n",
    "    \n",
    "    def fitPoints(self, x, y):\n",
    "        self.x = x;\n",
    "        self.y = y;\n",
    "        self.clusterofPoint = {};\n",
    "        self.pointsinCluster1 = [];\n",
    "        self.pointsinCluster2 = [];\n",
    "\n",
    "    def formClusters(self, c1, c2):\n",
    "\n",
    "        prevC1 = c1;\n",
    "        prevC2 = c2;\n",
    "        # pointsinCluster1 = []\n",
    "        # pointsinCluster2 = []\n",
    "        while True:\n",
    "            self.pointsinCluster1 = [];\n",
    "            self.pointsinCluster2 = [];\n",
    "            for xi, yi in zip(self.x, self.y):\n",
    "                d1 = (xi-prevC1[0])**2 + (yi-prevC1[1])**2;\n",
    "                d2 = (xi-prevC2[0])**2 + (yi-prevC2[1])**2;\n",
    "                if(d1 > d2):\n",
    "                    self.pointsinCluster2.append([xi, yi]);\n",
    "                    # self.clusterofPoint[[xi, yi]] = 'cluster1';\n",
    "                else:\n",
    "                    self.pointsinCluster1.append([xi, yi]);\n",
    "                    # self.clusterofPoint[[xi, yi]] = 'cluster2';\n",
    "            \n",
    "            xPoints1 = []; yPoints1 = [];\n",
    "            xPoints2 = []; yPoints2 = [];\n",
    "            for point in self.pointsinCluster1:\n",
    "                xPoints1.append(point[0]);\n",
    "                yPoints1.append(point[1]);\n",
    "            for point in self.pointsinCluster2:\n",
    "                xPoints2.append(point[0]);\n",
    "                yPoints2.append(point[1]);\n",
    "            newC1 = [ np.mean(xPoints1), np.mean(yPoints1) ];\n",
    "            newC2 = [ np.mean(xPoints2), np.mean(yPoints2) ];\n",
    "\n",
    "            if(newC1 == prevC1 and newC2 == prevC2):\n",
    "                break;\n",
    "            \n",
    "            prevC1 = newC1;\n",
    "            prevC2 = newC2;\n",
    "        print('New Centroid for Cluster 1 : ', prevC1);\n",
    "        print('New Centroid for Cluster 2 : ', prevC2);\n",
    "        \n",
    "    \n",
    "\n",
    "    def getCluster(self, point):\n",
    "        # return self.clusterofPoint[point];\n",
    "        if point in self.pointsinCluster1:\n",
    "            return 'cluster1';\n",
    "        if point in self.pointsinCluster2:\n",
    "            return 'cluster2';\n",
    "        print('Form Clusters First');\n",
    "    \n",
    "\n",
    "    def getClusterCount(self, cluster):\n",
    "        pass;\n",
    "    \n",
    "    def drawScatterPlot(self):\n",
    "        xPoints1 = []; yPoints1 = [];\n",
    "        xPoints2 = []; yPoints2 = [];\n",
    "        for point in self.pointsinCluster1:\n",
    "            xPoints1.append(point[0]);\n",
    "            yPoints1.append(point[1]);\n",
    "        for point in self.pointsinCluster2:\n",
    "            xPoints2.append(point[0]);\n",
    "            yPoints2.append(point[1]);\n",
    "        plt.figure(figsize=(12, 8));\n",
    "        plt.scatter(xPoints1, yPoints1, color=\"blue\");\n",
    "        plt.scatter(xPoints2, yPoints2, color='red');\n",
    "        plt.show();\n"
   ]
  },
  {
   "cell_type": "code",
   "execution_count": 117,
   "metadata": {},
   "outputs": [],
   "source": [
    "kmeans = Kmeans();\n",
    "kmeans.fitPoints(df['x'], df['y']);"
   ]
  },
  {
   "cell_type": "code",
   "execution_count": 118,
   "metadata": {},
   "outputs": [
    {
     "name": "stdout",
     "output_type": "stream",
     "text": [
      "Forming Cluster ..... \n",
      "New Centroid for Cluster 1 :  [0.148, 0.712]\n",
      "New Centroid for Cluster 2 :  [0.24666666666666667, 0.20000000000000004]\n",
      "Cluter Formed\n"
     ]
    }
   ],
   "source": [
    "print('Forming Cluster ..... ');\n",
    "c1 = [0.10, 0.60]\n",
    "c2 = [0.30, 0.20]\n",
    "kmeans.formClusters(c1, c2);\n",
    "print('Cluter Formed');"
   ]
  },
  {
   "cell_type": "code",
   "execution_count": 119,
   "metadata": {},
   "outputs": [
    {
     "name": "stdout",
     "output_type": "stream",
     "text": [
      "Point P6 Belongs to :  cluster1\n"
     ]
    }
   ],
   "source": [
    "p6 = [0.25, 0.50]\n",
    "p6Cluster = kmeans.getCluster(p6);\n",
    "print(\"Point P6 Belongs to : \", p6Cluster)"
   ]
  },
  {
   "cell_type": "code",
   "execution_count": 120,
   "metadata": {},
   "outputs": [
    {
     "name": "stdout",
     "output_type": "stream",
     "text": [
      "Points in CLuster 1 : \n",
      "[[0.1, 0.6], [0.15, 0.71], [0.08, 0.9], [0.16, 0.85], [0.25, 0.5]]\n"
     ]
    }
   ],
   "source": [
    "print('Points in CLuster 1 : ');\n",
    "print(kmeans.pointsinCluster1);"
   ]
  },
  {
   "cell_type": "code",
   "execution_count": 121,
   "metadata": {},
   "outputs": [
    {
     "name": "stdout",
     "output_type": "stream",
     "text": [
      "Points in CLuster 2 : \n",
      "[[0.2, 0.3], [0.24, 0.1], [0.3, 0.2]]\n"
     ]
    }
   ],
   "source": [
    "print('Points in CLuster 2 : ');\n",
    "print(kmeans.pointsinCluster2);"
   ]
  },
  {
   "cell_type": "code",
   "execution_count": 122,
   "metadata": {},
   "outputs": [
    {
     "data": {
      "image/png": "[encoded data removed]",
      "text/plain": [
       "<Figure size 864x576 with 1 Axes>"
      ]
     },
     "metadata": {
      "needs_background": "light"
     },
     "output_type": "display_data"
    }
   ],
   "source": [
    "kmeans.drawScatterPlot();"
   ]
  }
 ],
 "metadata": {
  "interpreter": {
   "hash": "916dbcbb3f70747c44a77c7bcd40155683ae19c65e1c03b4aa3499c5328201f1"
  },
  "kernelspec": {
   "display_name": "Python 3.8.10 64-bit",
   "language": "python",
   "name": "python3"
  },
  "language_info": {
   "codemirror_mode": {
    "name": "ipython",
    "version": 3
   },
   "file_extension": ".py",
   "mimetype": "text/x-python",
   "name": "python",
   "nbconvert_exporter": "python",
   "pygments_lexer": "ipython3",
   "version": "3.8.10"
  },
  "orig_nbformat": 4
 },
 "nbformat": 4,
 "nbformat_minor": 2
}
