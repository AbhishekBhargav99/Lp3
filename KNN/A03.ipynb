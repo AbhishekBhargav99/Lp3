{
 "cells": [
  {
   "cell_type": "code",
   "execution_count": 55,
   "metadata": {},
   "outputs": [],
   "source": [
    "import numpy as np;\n",
    "import pandas as pd;\n",
    "import math"
   ]
  },
  {
   "cell_type": "code",
   "execution_count": 56,
   "metadata": {},
   "outputs": [
    {
     "data": {
      "text/html": [
       "<div>\n",
       "<style scoped>\n",
       "    .dataframe tbody tr th:only-of-type {\n",
       "        vertical-align: middle;\n",
       "    }\n",
       "\n",
       "    .dataframe tbody tr th {\n",
       "        vertical-align: top;\n",
       "    }\n",
       "\n",
       "    .dataframe thead th {\n",
       "        text-align: right;\n",
       "    }\n",
       "</style>\n",
       "<table border=\"1\" class=\"dataframe\">\n",
       "  <thead>\n",
       "    <tr style=\"text-align: right;\">\n",
       "      <th></th>\n",
       "      <th>x</th>\n",
       "      <th>y</th>\n",
       "      <th>class</th>\n",
       "    </tr>\n",
       "  </thead>\n",
       "  <tbody>\n",
       "    <tr>\n",
       "      <th>0</th>\n",
       "      <td>2</td>\n",
       "      <td>4</td>\n",
       "      <td>negative</td>\n",
       "    </tr>\n",
       "    <tr>\n",
       "      <th>1</th>\n",
       "      <td>4</td>\n",
       "      <td>2</td>\n",
       "      <td>negative</td>\n",
       "    </tr>\n",
       "    <tr>\n",
       "      <th>2</th>\n",
       "      <td>4</td>\n",
       "      <td>4</td>\n",
       "      <td>positive</td>\n",
       "    </tr>\n",
       "    <tr>\n",
       "      <th>3</th>\n",
       "      <td>4</td>\n",
       "      <td>6</td>\n",
       "      <td>negative</td>\n",
       "    </tr>\n",
       "    <tr>\n",
       "      <th>4</th>\n",
       "      <td>6</td>\n",
       "      <td>2</td>\n",
       "      <td>positive</td>\n",
       "    </tr>\n",
       "    <tr>\n",
       "      <th>5</th>\n",
       "      <td>6</td>\n",
       "      <td>4</td>\n",
       "      <td>negative</td>\n",
       "    </tr>\n",
       "  </tbody>\n",
       "</table>\n",
       "</div>"
      ],
      "text/plain": [
       "   x  y     class\n",
       "0  2  4  negative\n",
       "1  4  2  negative\n",
       "2  4  4  positive\n",
       "3  4  6  negative\n",
       "4  6  2  positive\n",
       "5  6  4  negative"
      ]
     },
     "execution_count": 56,
     "metadata": {},
     "output_type": "execute_result"
    }
   ],
   "source": [
    "df = pd.read_csv('knn.csv')\n",
    "df"
   ]
  },
  {
   "cell_type": "code",
   "execution_count": 57,
   "metadata": {},
   "outputs": [
    {
     "data": {
      "text/html": [
       "<div>\n",
       "<style scoped>\n",
       "    .dataframe tbody tr th:only-of-type {\n",
       "        vertical-align: middle;\n",
       "    }\n",
       "\n",
       "    .dataframe tbody tr th {\n",
       "        vertical-align: top;\n",
       "    }\n",
       "\n",
       "    .dataframe thead th {\n",
       "        text-align: right;\n",
       "    }\n",
       "</style>\n",
       "<table border=\"1\" class=\"dataframe\">\n",
       "  <thead>\n",
       "    <tr style=\"text-align: right;\">\n",
       "      <th></th>\n",
       "      <th>x</th>\n",
       "      <th>y</th>\n",
       "      <th>class</th>\n",
       "    </tr>\n",
       "  </thead>\n",
       "  <tbody>\n",
       "    <tr>\n",
       "      <th>0</th>\n",
       "      <td>2</td>\n",
       "      <td>4</td>\n",
       "      <td>0</td>\n",
       "    </tr>\n",
       "    <tr>\n",
       "      <th>1</th>\n",
       "      <td>4</td>\n",
       "      <td>2</td>\n",
       "      <td>0</td>\n",
       "    </tr>\n",
       "    <tr>\n",
       "      <th>2</th>\n",
       "      <td>4</td>\n",
       "      <td>4</td>\n",
       "      <td>1</td>\n",
       "    </tr>\n",
       "    <tr>\n",
       "      <th>3</th>\n",
       "      <td>4</td>\n",
       "      <td>6</td>\n",
       "      <td>0</td>\n",
       "    </tr>\n",
       "    <tr>\n",
       "      <th>4</th>\n",
       "      <td>6</td>\n",
       "      <td>2</td>\n",
       "      <td>1</td>\n",
       "    </tr>\n",
       "    <tr>\n",
       "      <th>5</th>\n",
       "      <td>6</td>\n",
       "      <td>4</td>\n",
       "      <td>0</td>\n",
       "    </tr>\n",
       "  </tbody>\n",
       "</table>\n",
       "</div>"
      ],
      "text/plain": [
       "   x  y  class\n",
       "0  2  4      0\n",
       "1  4  2      0\n",
       "2  4  4      1\n",
       "3  4  6      0\n",
       "4  6  2      1\n",
       "5  6  4      0"
      ]
     },
     "execution_count": 57,
     "metadata": {},
     "output_type": "execute_result"
    }
   ],
   "source": [
    "mapping = {'negative' : 0, 'positive': 1};\n",
    "newDf = df.replace({'negative': 0, 'positive': 1})\n",
    "newDf"
   ]
  },
  {
   "cell_type": "code",
   "execution_count": 58,
   "metadata": {},
   "outputs": [],
   "source": [
    "class KNN:\n",
    "    def __init__(self):\n",
    "        self.k = 3;\n",
    "    \n",
    "    def fit(self, x, y, groups):\n",
    "        self.x = x;\n",
    "        self.y = y;\n",
    "        self.groups = groups;\n",
    "    \n",
    "    def predict(self, x, y):\n",
    "        distances = [];\n",
    "        i = 0;\n",
    "        for xi, yi in zip(self.x, self.y):\n",
    "            euclideanDistance = math.sqrt((x-xi)**2 + (y-yi)**2);\n",
    "            distances.append((euclideanDistance, self.groups[i]));\n",
    "            i+=1;\n",
    "        selectedDistance = sorted(distances)[:self.k];\n",
    "        freq1 = 0; freq2 =0;\n",
    "        # print('distances : ',distances)\n",
    "        # print('sorted Distances: ', selectedDistance);\n",
    "        for distance in selectedDistance:\n",
    "            if(distance[1] == 'negative'):\n",
    "                freq1 +=1;\n",
    "            else:\n",
    "                freq2 +=1;\n",
    "        if freq1 > freq2:\n",
    "            return 'negative';\n",
    "        else:\n",
    "            return 'positive';\n",
    "        \n",
    "    def weightedPredict(self, x, y):\n",
    "        distances = [];\n",
    "        i = 0;\n",
    "        for xi, yi in zip(self.x, self.y):\n",
    "            euclideanDistance = math.sqrt((x-xi)**2 + (y-yi)**2);\n",
    "            distances.append((euclideanDistance, self.groups[i]));\n",
    "            i += 1;\n",
    "        selectedDistance = sorted(distances)[:self.k];\n",
    "        freq1 = 0; freq2 =0;\n",
    "        for distance in selectedDistance:\n",
    "            if(distance[1] == 'negative'):\n",
    "                freq1 += ( 1 / distance[0] ) ;\n",
    "            else:\n",
    "                freq2 += ( 1 / distance[0]);\n",
    "        if freq1 > freq2:\n",
    "            return 'negative';\n",
    "        else:\n",
    "            return 'positive';\n",
    "    \n"
   ]
  },
  {
   "cell_type": "code",
   "execution_count": 59,
   "metadata": {},
   "outputs": [
    {
     "name": "stdout",
     "output_type": "stream",
     "text": [
      "0    2\n",
      "1    4\n",
      "2    4\n",
      "3    4\n",
      "4    6\n",
      "5    6\n",
      "Name: x, dtype: int64 0    4\n",
      "1    2\n",
      "2    4\n",
      "3    6\n",
      "4    2\n",
      "5    4\n",
      "Name: y, dtype: int64 0    negative\n",
      "1    negative\n",
      "2    positive\n",
      "3    negative\n",
      "4    positive\n",
      "5    negative\n",
      "Name: class, dtype: object\n"
     ]
    }
   ],
   "source": [
    "knn = KNN();\n",
    "knn.fit( df['x'] , df['y'] , df['class']);\n",
    "print(knn.x, knn.y, knn.groups)"
   ]
  },
  {
   "cell_type": "code",
   "execution_count": 60,
   "metadata": {},
   "outputs": [
    {
     "name": "stdout",
     "output_type": "stream",
     "text": [
      "Point (6, 6) belongs to class according to normal prediction :  negative\n"
     ]
    }
   ],
   "source": [
    "predictedClass = knn.predict(6, 6)\n",
    "print('Point (6, 6) belongs to class according to normal prediction : ', predictedClass)"
   ]
  },
  {
   "cell_type": "code",
   "execution_count": 61,
   "metadata": {},
   "outputs": [
    {
     "name": "stdout",
     "output_type": "stream",
     "text": [
      "Point (6, 6) belongs to class  according to wighted Prediction :  negative\n"
     ]
    }
   ],
   "source": [
    "predictedClass = knn.weightedPredict(6, 6)\n",
    "print('Point (6, 6) belongs to class  according to wighted Prediction : ', predictedClass)"
   ]
  }
 ],
 "metadata": {
  "interpreter": {
   "hash": "916dbcbb3f70747c44a77c7bcd40155683ae19c65e1c03b4aa3499c5328201f1"
  },
  "kernelspec": {
   "display_name": "Python 3.8.10 64-bit",
   "language": "python",
   "name": "python3"
  },
  "language_info": {
   "codemirror_mode": {
    "name": "ipython",
    "version": 3
   },
   "file_extension": ".py",
   "mimetype": "text/x-python",
   "name": "python",
   "nbconvert_exporter": "python",
   "pygments_lexer": "ipython3",
   "version": "3.8.10"
  },
  "orig_nbformat": 4
 },
 "nbformat": 4,
 "nbformat_minor": 2
}
